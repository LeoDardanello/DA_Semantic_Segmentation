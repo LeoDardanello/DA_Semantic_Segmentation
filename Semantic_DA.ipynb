{
  "cells": [
    {
      "cell_type": "markdown",
      "metadata": {
        "id": "view-in-github",
        "colab_type": "text"
      },
      "source": [
        "<a href=\"https://colab.research.google.com/github/LeoDardanello/DA_Semantic_Segmentation/blob/main/Semantic_DA.ipynb\" target=\"_parent\"><img src=\"https://colab.research.google.com/assets/colab-badge.svg\" alt=\"Open In Colab\"/></a>"
      ]
    },
    {
      "cell_type": "code",
      "execution_count": 61,
      "metadata": {
        "colab": {
          "base_uri": "https://localhost:8080/"
        },
        "id": "um0XeVbimTpW",
        "outputId": "c4c4e9df-c608-47d1-a514-9879485dbc16"
      },
      "outputs": [
        {
          "output_type": "stream",
          "name": "stdout",
          "text": [
            "Drive already mounted at /content/drive; to attempt to forcibly remount, call drive.mount(\"/content/drive\", force_remount=True).\n"
          ]
        }
      ],
      "source": [
        "from google.colab import drive\n",
        "import sys, os\n",
        "import numpy as np\n",
        "import torchvision\n",
        "\n",
        "drive.mount('/content/drive')\n"
      ]
    },
    {
      "cell_type": "code",
      "execution_count": 62,
      "metadata": {
        "colab": {
          "base_uri": "https://localhost:8080/"
        },
        "id": "NpT5jzhinC8f",
        "outputId": "35f632e1-5183-4f87-995e-921c82c5958c"
      },
      "outputs": [
        {
          "output_type": "execute_result",
          "data": {
            "text/plain": [
              "CompletedProcess(args=\"7z x '/content/drive/MyDrive/AML/Cityscapes.zip' -o'./'\", returncode=2, stdout=b'\\n7-Zip [64] 16.02 : Copyright (c) 1999-2016 Igor Pavlov : 2016-05-21\\np7zip Version 16.02 (locale=en_US.UTF-8,Utf16=on,HugeFiles=on,64 bits,2 CPUs Intel(R) Xeon(R) CPU @ 2.00GHz (50653),ASM,AES-NI)\\n\\nScanning the drive for archives:\\n1 file, 4973983436 bytes (4744 MiB)\\n\\nExtracting archive: /content/drive/MyDrive/AML/Cityscapes.zip\\n--\\nPath = /content/drive/MyDrive/AML/Cityscapes.zip\\nType = zip\\nERRORS:\\nHeaders Error\\nPhysical Size = 4973983436\\n64-bit = +\\n\\n\\nWould you like to replace the existing file:\\n  Path:     ./Cityscapes/Cityspaces/gtFine/train/hanover/hanover_000000_000164_gtFine_color.png\\n  Size:     29386 bytes (29 KiB)\\n  Modified: 2023-11-20 15:23:48\\nwith the file from archive:\\n  Path:     Cityscapes/Cityspaces/gtFine/train/hanover/hanover_000000_000164_gtFine_color.png\\n  Size:     29386 bytes (29 KiB)\\n  Modified: 2023-11-20 15:23:48\\n? (Y)es / (N)o / (A)lways / (S)kip all / A(u)to rename all / (Q)uit? ', stderr=b'\\nERRORS:\\nHeaders Error\\n\\n\\n\\nERROR:\\nUnexpected end of input stream\\n')"
            ]
          },
          "metadata": {},
          "execution_count": 62
        }
      ],
      "source": [
        "import subprocess\n",
        "\n",
        "percorso_zip = \"/content/drive/MyDrive/AML/Cityscapes.zip\"\n",
        "\n",
        "percorso_destinazione = \"./\"\n",
        "\n",
        "comando_7zip = f\"7z x '{percorso_zip}' -o'{percorso_destinazione}'\"\n",
        "\n",
        "subprocess.run(comando_7zip, shell=True, stdout=subprocess.PIPE, stderr=subprocess.PIPE)\n"
      ]
    },
    {
      "cell_type": "code",
      "execution_count": 63,
      "metadata": {
        "colab": {
          "base_uri": "https://localhost:8080/"
        },
        "id": "JX2md0PHIjYo",
        "outputId": "d7305d1f-6dfa-4f7a-b09f-bc078d75dd48"
      },
      "outputs": [
        {
          "output_type": "stream",
          "name": "stdout",
          "text": [
            "fatal: destination path 'DA_Semantic_Segmentation' already exists and is not an empty directory.\n"
          ]
        }
      ],
      "source": [
        "!git clone \"https://github.com/LeoDardanello/DA_Semantic_Segmentation.git\""
      ]
    },
    {
      "cell_type": "code",
      "execution_count": 64,
      "metadata": {
        "id": "eG-PkH4ZRRcP"
      },
      "outputs": [],
      "source": [
        "# os.chdir(\"DA_Semantic_Segmentation/\")\n",
        "# !ls\n",
        "# !git pull"
      ]
    },
    {
      "cell_type": "code",
      "execution_count": 65,
      "metadata": {
        "id": "KhNW-19VfdZW"
      },
      "outputs": [],
      "source": [
        "from DA_Semantic_Segmentation.cityscapes import CityScapes\n",
        "\n",
        "c = CityScapes(\"train\")"
      ]
    },
    {
      "cell_type": "code",
      "execution_count": 70,
      "metadata": {
        "id": "KBb-h0KnxJbX"
      },
      "outputs": [],
      "source": [
        "'''import matplotlib.pyplot as plt\n",
        "image_np=c[0]\n",
        "data = image_np[0].numpy()\n",
        "label = image_np[1].numpy()\n",
        "plt.imshow(data)\n",
        "plt.axis('off')  # Disabilita gli assi\n",
        "plt.show()\n",
        "plt.imshow(label)\n",
        "plt.axis('off')  # Disabilita gli assi\n",
        "plt.show()'''\n",
        "image=c[0]"
      ]
    },
    {
      "cell_type": "markdown",
      "metadata": {
        "id": "BXAEPOl7yKyo"
      },
      "source": [
        "**TRAINING**"
      ]
    },
    {
      "cell_type": "code",
      "execution_count": 67,
      "metadata": {
        "id": "-OLyUV_fySMB",
        "outputId": "30178793-558c-4c9a-e773-d38ca8c56d5c",
        "colab": {
          "base_uri": "https://localhost:8080/"
        }
      },
      "outputs": [
        {
          "output_type": "stream",
          "name": "stdout",
          "text": [
            "Requirement already satisfied: tensorboardX in /usr/local/lib/python3.10/dist-packages (2.6.2.2)\n",
            "Requirement already satisfied: numpy in /usr/local/lib/python3.10/dist-packages (from tensorboardX) (1.23.5)\n",
            "Requirement already satisfied: packaging in /usr/local/lib/python3.10/dist-packages (from tensorboardX) (23.2)\n",
            "Requirement already satisfied: protobuf>=3.20 in /usr/local/lib/python3.10/dist-packages (from tensorboardX) (3.20.3)\n"
          ]
        }
      ],
      "source": [
        "!pip install tensorboardX"
      ]
    },
    {
      "cell_type": "code",
      "execution_count": 74,
      "metadata": {
        "colab": {
          "base_uri": "https://localhost:8080/"
        },
        "id": "YLzEawkgDxbh",
        "outputId": "2672f6ae-f3da-43f6-888b-fbc2d1310615"
      },
      "outputs": [
        {
          "output_type": "stream",
          "name": "stdout",
          "text": [
            "epoch 0, lr 0.010000: 100% 1572/1572 [07:19<00:00,  3.57it/s, loss=2.369170]\n",
            "loss for train : 3.580562\n",
            "epoch 1, lr 0.009820: 100% 1572/1572 [07:16<00:00,  3.60it/s, loss=1.900149]\n",
            "loss for train : 2.703418\n",
            "start val!\n",
            "precision per pixel for test: 0.637\n",
            "mIoU for validation: 0.159\n",
            "mIoU per class: [0.85069685 0.24540559 0.54981648 0.         0.         0.\n",
            " 0.         0.00784697 0.60695592 0.17001726 0.31996109 0.\n",
            " 0.         0.26886882 0.         0.         0.         0.\n",
            " 0.        ]\n",
            "epoch 2, lr 0.009639: 100% 1572/1572 [06:58<00:00,  3.75it/s, loss=1.690341]\n",
            "loss for train : 2.435040\n",
            "start val!\n",
            "Traceback (most recent call last):\n",
            "  File \"/content/DA_Semantic_Segmentation/train.py\", line 259, in <module>\n",
            "    main()\n",
            "  File \"/content/DA_Semantic_Segmentation/train.py\", line 254, in main\n",
            "    train(args, model, optimizer, dataloader_train, dataloader_val)\n",
            "  File \"/content/DA_Semantic_Segmentation/train.py\", line 106, in train\n",
            "    precision, miou = val(args, model, dataloader_val)\n",
            "  File \"/content/DA_Semantic_Segmentation/train.py\", line 42, in val\n",
            "    precision = compute_global_accuracy(predict, label)\n",
            "  File \"/content/DA_Semantic_Segmentation/utils.py\", line -1, in compute_global_accuracy\n",
            "KeyboardInterrupt\n"
          ]
        }
      ],
      "source": [
        "!python3 \"/content/DA_Semantic_Segmentation/train.py\" --num_epochs 50 --num_workers 2 --validation_step 1 --save_model_path \"/content/DA_Semantic_Segmentation/out\""
      ]
    }
  ],
  "metadata": {
    "accelerator": "GPU",
    "colab": {
      "gpuType": "T4",
      "provenance": [],
      "include_colab_link": true
    },
    "kernelspec": {
      "display_name": "Python 3",
      "name": "python3"
    },
    "language_info": {
      "name": "python"
    }
  },
  "nbformat": 4,
  "nbformat_minor": 0
}