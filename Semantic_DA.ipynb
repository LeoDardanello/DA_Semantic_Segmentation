{
  "cells": [
    {
      "cell_type": "markdown",
      "metadata": {
        "colab_type": "text",
        "id": "view-in-github"
      },
      "source": [
        "<a href=\"https://colab.research.google.com/github/LeoDardanello/DA_Semantic_Segmentation/blob/main/Semantic_DA.ipynb\" target=\"_parent\"><img src=\"https://colab.research.google.com/assets/colab-badge.svg\" alt=\"Open In Colab\"/></a>"
      ]
    },
    {
      "cell_type": "code",
      "execution_count": 1,
      "metadata": {
        "colab": {
          "base_uri": "https://localhost:8080/"
        },
        "id": "um0XeVbimTpW",
        "outputId": "8adfed5a-677d-405b-cc36-0254298ee299"
      },
      "outputs": [
        {
          "name": "stdout",
          "output_type": "stream",
          "text": [
            "Mounted at /content/drive\n"
          ]
        }
      ],
      "source": [
        "from google.colab import drive\n",
        "import sys, os\n",
        "import numpy as np\n",
        "import torchvision\n",
        "\n",
        "drive.mount('/content/drive')\n"
      ]
    },
    {
      "cell_type": "code",
      "execution_count": 2,
      "metadata": {
        "colab": {
          "base_uri": "https://localhost:8080/"
        },
        "id": "JX2md0PHIjYo",
        "outputId": "b99bbebe-5ad1-44fb-8b20-598540fb88d0"
      },
      "outputs": [
        {
          "name": "stdout",
          "output_type": "stream",
          "text": [
            "Cloning into 'DA_Semantic_Segmentation'...\n",
            "remote: Enumerating objects: 5062, done.\u001b[K\n",
            "remote: Counting objects: 100% (1620/1620), done.\u001b[K\n",
            "remote: Compressing objects: 100% (1609/1609), done.\u001b[K\n",
            "remote: Total 5062 (delta 20), reused 1603 (delta 11), pack-reused 3442\u001b[K\n",
            "Receiving objects: 100% (5062/5062), 3.55 GiB | 15.91 MiB/s, done.\n",
            "Resolving deltas: 100% (199/199), done.\n"
          ]
        }
      ],
      "source": [
        "if os.path.exists(\"/content/DA_Semantic_Segmentation\"):\n",
        "  !rm -rf \"/content/DA_Semantic_Segmentation\"\n",
        "!git clone \"https://github.com/LeoDardanello/DA_Semantic_Segmentation.git\""
      ]
    },
    {
      "cell_type": "code",
      "execution_count": null,
      "metadata": {
        "colab": {
          "base_uri": "https://localhost:8080/"
        },
        "id": "NpT5jzhinC8f",
        "outputId": "584cc762-f8b7-459e-f2af-a8d2d1240c98"
      },
      "outputs": [],
      "source": [
        "!7z x '/content/drive/MyDrive/AML/Cityscapes.zip'"
      ]
    },
    {
      "cell_type": "markdown",
      "metadata": {
        "id": "BXAEPOl7yKyo"
      },
      "source": [
        "**TRAINING**"
      ]
    },
    {
      "cell_type": "code",
      "execution_count": null,
      "metadata": {
        "colab": {
          "base_uri": "https://localhost:8080/"
        },
        "id": "-OLyUV_fySMB",
        "outputId": "0d8b4a49-ea87-4847-df68-7b230dbd6f1c"
      },
      "outputs": [
        {
          "name": "stdout",
          "output_type": "stream",
          "text": [
            "Collecting tensorboardX\n",
            "  Downloading tensorboardX-2.6.2.2-py2.py3-none-any.whl (101 kB)\n",
            "\u001b[?25l     \u001b[90m━━━━━━━━━━━━━━━━━━━━━━━━━━━━━━━━━━━━━━━━\u001b[0m \u001b[32m0.0/101.7 kB\u001b[0m \u001b[31m?\u001b[0m eta \u001b[36m-:--:--\u001b[0m\r\u001b[2K     \u001b[90m━━━━━━━━━━━━━━━━━━━━━━━━━━━━━━━━━━━━━━━━\u001b[0m \u001b[32m101.7/101.7 kB\u001b[0m \u001b[31m3.9 MB/s\u001b[0m eta \u001b[36m0:00:00\u001b[0m\n",
            "\u001b[?25hRequirement already satisfied: numpy in /usr/local/lib/python3.10/dist-packages (from tensorboardX) (1.23.5)\n",
            "Requirement already satisfied: packaging in /usr/local/lib/python3.10/dist-packages (from tensorboardX) (23.2)\n",
            "Requirement already satisfied: protobuf>=3.20 in /usr/local/lib/python3.10/dist-packages (from tensorboardX) (3.20.3)\n",
            "Installing collected packages: tensorboardX\n",
            "Successfully installed tensorboardX-2.6.2.2\n"
          ]
        }
      ],
      "source": [
        "!pip install tensorboardX"
      ]
    },
    {
      "cell_type": "code",
      "execution_count": null,
      "metadata": {
        "id": "YLzEawkgDxbh"
      },
      "outputs": [],
      "source": [
        "!python3 \"/content/DA_Semantic_Segmentation/train.py\" --num_epochs 50 --num_workers 2 --checkpoint_step 5 --validation_step 10 --save_model_path \"/content/DA_Semantic_Segmentation/out\" --pretrain_path \"/content/drive/MyDrive/STDCNet813M_73.91.tar\""
      ]
    },
    {
      "cell_type": "markdown",
      "metadata": {
        "id": "2arO58xOaLLg"
      },
      "source": [
        "# GTA 5 TEST\n"
      ]
    },
    {
      "cell_type": "code",
      "execution_count": null,
      "metadata": {
        "colab": {
          "base_uri": "https://localhost:8080/"
        },
        "id": "jfztS1rcp7Vw",
        "outputId": "6e9f6c66-63b2-42cc-d711-40634e5d1a36"
      },
      "outputs": [],
      "source": [
        "!7z x '/content/drive/MyDrive/AML/GTA5.zip'"
      ]
    },
    {
      "cell_type": "code",
      "execution_count": null,
      "metadata": {
        "id": "yHlg-oitrZHf"
      },
      "outputs": [],
      "source": [
        "# our folder with our labels for GTA5\n",
        "!unzip -qq '/content/drive/MyDrive/AMLUtils/TrainID.zip' -d '/content/GTA5/TrainID'"
      ]
    },
    {
      "cell_type": "code",
      "execution_count": null,
      "metadata": {
        "id": "2vFWG2hQp67p"
      },
      "outputs": [],
      "source": [
        "!python3 \"/content/DA_Semantic_Segmentation/train.py\" --num_epochs 50 --num_workers 2 --dataset_train \"GTA5\" --checkpoint_step 5 --validation_step 10 --save_model_path \"/content/DA_Semantic_Segmentation/out\" --pretrain_path \"/content/drive/MyDrive/STDCNet813M_73.91.tar\""
      ]
    },
    {
      "cell_type": "code",
      "execution_count": null,
      "metadata": {
        "id": "Y7JwoX8JtWuy"
      },
      "outputs": [],
      "source": [
        "!rm -rf \"/content/GTA5/TrainID\""
      ]
    },
    {
      "cell_type": "markdown",
      "metadata": {
        "id": "lxXM0jnVrZHh"
      },
      "source": [
        "# GTA TRAINING WITH CITYSCAPE TESTING"
      ]
    },
    {
      "cell_type": "code",
      "execution_count": null,
      "metadata": {
        "id": "AlVREeGcrZHh"
      },
      "outputs": [],
      "source": [
        "!python3 \"/content/DA_Semantic_Segmentation/train.py\" --num_epochs 50 --batch_size 8 --learning_rate 0.001 --num_workers 2 --dataset_train \"GTA5\" --dataset_test \"Cityscapes\" --checkpoint_step 5 --validation_step 10 --save_model_path \"/content/DA_Semantic_Segmentation/out\" --pretrain_path \"/content/drive/MyDrive/STDCNet813M_7391.tar\""
      ]
    },
    {
      "cell_type": "markdown",
      "metadata": {
        "id": "qY59z2X4rZHh"
      },
      "source": [
        "# DOMAIN ADAPTATION"
      ]
    },
    {
      "cell_type": "code",
      "execution_count": null,
      "metadata": {
        "id": "voeNZW-BrZHh"
      },
      "outputs": [],
      "source": [
        "!python3 \"/content/DA_Semantic_Segmentation/train_with_DA.py\" --save_model_path \"/content/DA_Semantic_Segmentation/out\" --pretrain_path \"/content/drive/MyDrive/STDCNet813M_73.91.tar\""
      ]
    },
    {
      "cell_type": "markdown",
      "metadata": {
        "id": "ZgXv-xeBrZHi"
      },
      "source": [
        "# FOURIER DOMAIN ADAPTATION"
      ]
    },
    {
      "cell_type": "code",
      "execution_count": null,
      "metadata": {
        "id": "8fpyRlW1rZHi"
      },
      "outputs": [],
      "source": [
        "beta=0.05"
      ]
    },
    {
      "cell_type": "code",
      "execution_count": null,
      "metadata": {
        "id": "934XiWCvrZHi"
      },
      "outputs": [],
      "source": [
        "# get FDA images\n",
        "!rm -rf \"/content/GTA5/FDA\"\n",
        "!unzip -qq '/content/drive/MyDrive/AMLUtils/FDA_{beta}/FDA.zip' -d '/content/GTA5/FDA'"
      ]
    },
    {
      "cell_type": "code",
      "execution_count": null,
      "metadata": {
        "colab": {
          "base_uri": "https://localhost:8080/"
        },
        "id": "aRia5KGArZHj",
        "outputId": "bd1ae9a3-6711-4e64-b571-ad300068eecc"
      },
      "outputs": [],
      "source": [
        "!python3 \"/content/DA_Semantic_Segmentation/train_with_DA.py\" --optimizer \"sgd\" --num_epochs 1 --save_model_path \"/content/DA_Semantic_Segmentation/out\" --pretrain_path \"/content/drive/MyDrive/STDCNet813M_73.91.tar\" --lamb 0.001  --checkpoint_step 1 --enable_FDA True --beta {beta}"
      ]
    },
    {
      "cell_type": "code",
      "execution_count": null,
      "metadata": {
        "id": "bH3eGSbyrZHj"
      },
      "outputs": [],
      "source": [
        "import shutil\n",
        "shutil.make_archive(\"/content/FDA\", 'zip', \"/content/GTA5/FDA\")\n",
        "# shutil.move(\"/content/FDA.zip\", \"/content/FDA_005\")\n",
        "# shutil.move(\"/content/source_data.txt\", \"/content/FDA_005\")\n",
        "# shutil.move(\"/content/source_label.txt\", \"/content/FDA_005\")\n",
        "# shutil.move(\"/content/FDA_005\", \"/content/drive/MyDrive/AMLUtils/\")"
      ]
    },
    {
      "cell_type": "markdown",
      "metadata": {
        "id": "0unScBaRPXsY"
      },
      "source": [
        "## **Evaluation using all three betas**"
      ]
    },
    {
      "cell_type": "code",
      "execution_count": 5,
      "metadata": {
        "id": "7cZl8602Poom"
      },
      "outputs": [],
      "source": [
        "!unzip -qq '/content/drive/MyDrive/AMLUtils/FDA_run_beta_0.01.zip' -d '/content/FDA_run_beta0.01'"
      ]
    },
    {
      "cell_type": "code",
      "execution_count": 4,
      "metadata": {
        "id": "Mx0koQIPP-iY"
      },
      "outputs": [],
      "source": [
        "!unzip -qq '/content/drive/MyDrive/AMLUtils/FDA_run_beta_0.05.zip' -d '/content/FDA_run_beta0.05'"
      ]
    },
    {
      "cell_type": "code",
      "execution_count": 3,
      "metadata": {
        "id": "YE6-JzeeQAaW"
      },
      "outputs": [],
      "source": [
        "!unzip -qq '/content/drive/MyDrive/AMLUtils/FDA_run_beta_0.09.zip' -d '/content/FDA_run_beta0.09'"
      ]
    },
    {
      "cell_type": "code",
      "execution_count": null,
      "metadata": {
        "colab": {
          "base_uri": "https://localhost:8080/"
        },
        "id": "ymVN6994TfPV",
        "outputId": "2498caa4-ae34-41dc-eb94-70c8e5d5a9f2"
      },
      "outputs": [],
      "source": [
        "!python3 \"/content/DA_Semantic_Segmentation/evaluation_multibeta.py\" --pretrain_path \"/content/drive/MyDrive/STDCNet813M_73.91.tar\""
      ]
    },
    {
      "cell_type": "markdown",
      "metadata": {
        "id": "ZaRVatGOHyyT"
      },
      "source": [
        "\n",
        "**Generating Pseudo Label**\n",
        "\n"
      ]
    },
    {
      "cell_type": "code",
      "execution_count": null,
      "metadata": {
        "colab": {
          "base_uri": "https://localhost:8080/"
        },
        "id": "0pXoE18DH8aC",
        "outputId": "564f4866-42c9-4a35-c189-643f0b6f80b3"
      },
      "outputs": [],
      "source": [
        "!python3 \"/content/DA_Semantic_Segmentation/evaluation_multibeta.py\" --pretrain_path \"/content/drive/MyDrive/STDCNet813M_73.91.tar\" --use \"generatepseudo\""
      ]
    },
    {
      "cell_type": "markdown",
      "metadata": {
        "id": "_zPn5V-vaX9L"
      },
      "source": [
        "**Finetuning**"
      ]
    },
    {
      "cell_type": "code",
      "execution_count": 7,
      "metadata": {
        "id": "Ev1pdlgAacEp"
      },
      "outputs": [],
      "source": [
        "!unzip -qq '/content/drive/MyDrive/AMLUtils/pseudolbl.zip' -d '/content/Cityscapes/Cityspaces/pseudolbl' "
      ]
    },
    {
      "cell_type": "code",
      "execution_count": null,
      "metadata": {},
      "outputs": [],
      "source": [
        "beta=0.05"
      ]
    },
    {
      "cell_type": "code",
      "execution_count": null,
      "metadata": {},
      "outputs": [],
      "source": [
        "!unzip -qq '/content/drive/MyDrive/AMLUtils/FDA_run_beta_{beta}.zip' -d '/content/FDA_run_beta{beta}'"
      ]
    },
    {
      "cell_type": "code",
      "execution_count": null,
      "metadata": {},
      "outputs": [],
      "source": [
        "!python3 \"/content/DA_Semantic_Segmentation/train_with_DA.py\" --optimizer \"sgd\" --num_epochs 60 --epoch_start_i 50 --training_path \"/content/FDA_run_beta0.05/latest_epoch_49_.pth\" --use_pseudo_label True --save_model_path \"/content/DA_Semantic_Segmentation/out\" --pretrain_path \"/content/drive/MyDrive/STDCNet813M_73.91.tar\" --lamb 0.001  --checkpoint_step 1 --enable_FDA True --beta {beta}"
      ]
    }
  ],
  "metadata": {
    "accelerator": "GPU",
    "colab": {
      "gpuType": "T4",
      "include_colab_link": true,
      "provenance": []
    },
    "kernelspec": {
      "display_name": "Python 3",
      "name": "python3"
    },
    "language_info": {
      "name": "python"
    }
  },
  "nbformat": 4,
  "nbformat_minor": 0
}
