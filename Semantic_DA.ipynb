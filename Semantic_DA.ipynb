{
  "cells": [
    {
      "cell_type": "markdown",
      "metadata": {
        "id": "view-in-github",
        "colab_type": "text"
      },
      "source": [
        "<a href=\"https://colab.research.google.com/github/LeoDardanello/DA_Semantic_Segmentation/blob/main/Semantic_DA.ipynb\" target=\"_parent\"><img src=\"https://colab.research.google.com/assets/colab-badge.svg\" alt=\"Open In Colab\"/></a>"
      ]
    },
    {
      "cell_type": "code",
      "source": [
        "from google.colab import drive\n",
        "import sys, os\n",
        "\n",
        "drive.mount('/content/drive')\n"
      ],
      "metadata": {
        "colab": {
          "base_uri": "https://localhost:8080/"
        },
        "id": "um0XeVbimTpW",
        "outputId": "1d62ed50-9467-4d3a-f3cf-cce9630b1223"
      },
      "execution_count": 1,
      "outputs": [
        {
          "output_type": "stream",
          "name": "stdout",
          "text": [
            "Mounted at /content/drive\n"
          ]
        }
      ]
    },
    {
      "cell_type": "code",
      "source": [
        "import subprocess\n",
        "\n",
        "percorso_zip = \"/content/drive/MyDrive/AML/Cityscapes.zip\"\n",
        "\n",
        "percorso_destinazione = \"./\"\n",
        "\n",
        "comando_7zip = f\"7z x '{percorso_zip}' -o'{percorso_destinazione}'\"\n",
        "\n",
        "subprocess.run(comando_7zip, shell=True, stdout=subprocess.PIPE, stderr=subprocess.PIPE)\n"
      ],
      "metadata": {
        "colab": {
          "base_uri": "https://localhost:8080/"
        },
        "id": "NpT5jzhinC8f",
        "outputId": "2bf08115-cc41-4b1a-b712-408ab742801c"
      },
      "execution_count": 4,
      "outputs": [
        {
          "output_type": "execute_result",
          "data": {
            "text/plain": [
              "CompletedProcess(args=\"7z x '/content/drive/MyDrive/AML/Cityscapes.zip' -o'./'\", returncode=2)"
            ]
          },
          "metadata": {},
          "execution_count": 4
        }
      ]
    },
    {
      "cell_type": "code",
      "execution_count": 3,
      "metadata": {
        "colab": {
          "base_uri": "https://localhost:8080/"
        },
        "id": "JX2md0PHIjYo",
        "outputId": "7e18bb1c-13d9-44c3-edfc-7792e7452844"
      },
      "outputs": [
        {
          "output_type": "stream",
          "name": "stdout",
          "text": [
            "Cloning into 'DA_Semantic_Segmentation'...\n",
            "remote: Enumerating objects: 22, done.\u001b[K\n",
            "remote: Counting objects: 100% (22/22), done.\u001b[K\n",
            "remote: Compressing objects: 100% (21/21), done.\u001b[K\n",
            "remote: Total 22 (delta 6), reused 8 (delta 0), pack-reused 0\u001b[K\n",
            "Receiving objects: 100% (22/22), 16.33 KiB | 5.44 MiB/s, done.\n",
            "Resolving deltas: 100% (6/6), done.\n"
          ]
        }
      ],
      "source": [
        "!git clone \"https://github.com/LeoDardanello/DA_Semantic_Segmentation.git\""
      ]
    },
    {
      "cell_type": "code",
      "execution_count": null,
      "metadata": {
        "id": "42sz5FxcXP1E"
      },
      "outputs": [],
      "source": [
        "import torchvision\n",
        "import numpy"
      ]
    }
  ],
  "metadata": {
    "colab": {
      "provenance": [],
      "gpuType": "T4",
      "include_colab_link": true
    },
    "kernelspec": {
      "display_name": "Python 3",
      "name": "python3"
    },
    "language_info": {
      "name": "python"
    },
    "accelerator": "GPU"
  },
  "nbformat": 4,
  "nbformat_minor": 0
}