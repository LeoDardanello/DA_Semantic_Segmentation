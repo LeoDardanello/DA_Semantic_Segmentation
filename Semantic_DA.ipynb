{
  "cells": [
    {
      "cell_type": "markdown",
      "metadata": {
        "colab_type": "text",
        "id": "view-in-github"
      },
      "source": [
        "<a href=\"https://colab.research.google.com/github/LeoDardanello/DA_Semantic_Segmentation/blob/main/Semantic_DA.ipynb\" target=\"_parent\"><img src=\"https://colab.research.google.com/assets/colab-badge.svg\" alt=\"Open In Colab\"/></a>"
      ]
    },
    {
      "cell_type": "code",
      "execution_count": 12,
      "metadata": {
        "colab": {
          "base_uri": "https://localhost:8080/"
        },
        "id": "um0XeVbimTpW",
        "outputId": "f42c383f-3e1f-4197-d873-2ba81b79968c"
      },
      "outputs": [
        {
          "name": "stdout",
          "output_type": "stream",
          "text": [
            "Mounted at /content/drive\n"
          ]
        }
      ],
      "source": [
        "from google.colab import drive\n",
        "import sys, os\n",
        "\n",
        "drive.mount('/content/drive',force_remount=True)\n"
      ]
    },
    {
      "cell_type": "code",
      "execution_count": null,
      "metadata": {
        "colab": {
          "base_uri": "https://localhost:8080/"
        },
        "id": "-OLyUV_fySMB",
        "outputId": "8aa8be97-7e5d-4023-be83-d52419f85eef"
      },
      "outputs": [],
      "source": [
        "!pip install tensorboardX"
      ]
    },
    {
      "cell_type": "code",
      "execution_count": null,
      "metadata": {
        "colab": {
          "base_uri": "https://localhost:8080/"
        },
        "id": "JX2md0PHIjYo",
        "outputId": "6e8befdf-27b3-47d5-fffa-423646a8c045"
      },
      "outputs": [],
      "source": [
        "if os.path.exists(\"/content/DA_Semantic_Segmentation\"):\n",
        "  !rm -rf \"/content/DA_Semantic_Segmentation\"\n",
        "!git clone \"https://github.com/LeoDardanello/DA_Semantic_Segmentation.git\""
      ]
    },
    {
      "cell_type": "markdown",
      "metadata": {},
      "source": [
        "**DATASETS UNZIPPING**"
      ]
    },
    {
      "cell_type": "code",
      "execution_count": null,
      "metadata": {
        "id": "NpT5jzhinC8f"
      },
      "outputs": [],
      "source": [
        "!7z x '/content/drive/MyDrive/AML/Cityscapes.zip'"
      ]
    },
    {
      "cell_type": "code",
      "execution_count": null,
      "metadata": {
        "colab": {
          "base_uri": "https://localhost:8080/"
        },
        "id": "jfztS1rcp7Vw",
        "outputId": "17f2923e-fc74-43d0-9c0a-06147026f2a6"
      },
      "outputs": [],
      "source": [
        "!7z x '/content/drive/MyDrive/AML/GTA5.zip'"
      ]
    },
    {
      "cell_type": "markdown",
      "metadata": {
        "id": "BXAEPOl7yKyo"
      },
      "source": [
        "**CITYSCAPES TRAINING**"
      ]
    },
    {
      "cell_type": "code",
      "execution_count": null,
      "metadata": {
        "id": "YLzEawkgDxbh"
      },
      "outputs": [],
      "source": [
        "!python3 \"/content/DA_Semantic_Segmentation/train.py\" --num_epochs 50 --batch_size 8 --learning_rate 0.001 --num_workers 2 --save_model_path \"/content/DA_Semantic_Segmentation/out\" --pretrain_path \"/content/drive/MyDrive/STDCNet813M_73.91.tar\""
      ]
    },
    {
      "cell_type": "markdown",
      "metadata": {
        "id": "2arO58xOaLLg"
      },
      "source": [
        "**GTA5 TRAINING**"
      ]
    },
    {
      "cell_type": "code",
      "execution_count": null,
      "metadata": {
        "colab": {
          "base_uri": "https://localhost:8080/"
        },
        "id": "2vFWG2hQp67p",
        "outputId": "f7f83540-61de-4ec8-8322-f05e8270bcc6"
      },
      "outputs": [],
      "source": [
        "!python3 \"/content/DA_Semantic_Segmentation/train.py\" --num_epochs 50 --batch_size 8 --learning_rate 0.001  --num_workers 2 --dataset_train \"GTA5\" --dataset_test \"GTA5\" --save_model_path \"/content/DA_Semantic_Segmentation/out\" --pretrain_path \"/content/drive/MyDrive/STDCNet813M_73.91.tar\""
      ]
    },
    {
      "cell_type": "markdown",
      "metadata": {
        "id": "lxXM0jnVrZHh"
      },
      "source": [
        "**GTA TRAINING WITH CITYSCAPE TESTING**"
      ]
    },
    {
      "cell_type": "code",
      "execution_count": null,
      "metadata": {
        "id": "AlVREeGcrZHh"
      },
      "outputs": [],
      "source": [
        "!python3 \"/content/DA_Semantic_Segmentation/train.py\" --num_epochs 50 --batch_size 8 --learning_rate 0.001 --num_workers 2 --dataset_train \"GTA5\" --dataset_test \"Cityscapes\" --save_model_path \"/content/DA_Semantic_Segmentation/out\" --pretrain_path \"/content/drive/MyDrive/STDCNet813M_7391.tar\""
      ]
    },
    {
      "cell_type": "markdown",
      "metadata": {},
      "source": [
        "**GTA TRAINING WITH DATA AUGMENTATION, WITH CITYSCAPE TESTING**"
      ]
    },
    {
      "cell_type": "code",
      "execution_count": null,
      "metadata": {},
      "outputs": [],
      "source": [
        "!python3 \"/content/DA_Semantic_Segmentation/train.py\" --num_epochs 50 --batch_size 8 --learning_rate 0.001 --num_workers 2 --dataset_train \"GTA5\" --dataset_test \"Cityscapes\" --save_model_path \"/content/DA_Semantic_Segmentation/out\" --pretrain_path \"/content/drive/MyDrive/STDCNet813M_7391.tar\" --enable_DA true"
      ]
    },
    {
      "cell_type": "markdown",
      "metadata": {
        "id": "qY59z2X4rZHh"
      },
      "source": [
        "**ADVERSARIAL DOMAIN ADAPTATION**"
      ]
    },
    {
      "cell_type": "code",
      "execution_count": null,
      "metadata": {
        "id": "voeNZW-BrZHh"
      },
      "outputs": [],
      "source": [
        "!python3 \"/content/DA_Semantic_Segmentation/train_with_DA.py\" --optimizer \"sgd\" --save_model_path \"/content/DA_Semantic_Segmentation/out\" --pretrain_path \"/content/drive/MyDrive/STDCNet813M_73.91.tar\" --enable_DA true"
      ]
    },
    {
      "cell_type": "markdown",
      "metadata": {
        "id": "ZgXv-xeBrZHi"
      },
      "source": [
        "**FOURIER DOMAIN ADAPTATION**"
      ]
    },
    {
      "cell_type": "code",
      "execution_count": null,
      "metadata": {
        "id": "8fpyRlW1rZHi"
      },
      "outputs": [],
      "source": [
        "beta=0.05"
      ]
    },
    {
      "cell_type": "code",
      "execution_count": null,
      "metadata": {
        "id": "aRia5KGArZHj"
      },
      "outputs": [],
      "source": [
        "if os.path.exists(\"/content/GTA5/FDA\"):\n",
        "    !rm -rf \"/content/GTA5/FDA\"\n",
        "\n",
        "!python3 \"/content/DA_Semantic_Segmentation/train_with_DA.py\" --optimizer \"sgd\" --save_model_path \"/content/DA_Semantic_Segmentation/out\" --pretrain_path \"/content/drive/MyDrive/STDCNet813M_73.91.tar\" --lamb 0.001 --enable_FDA false --beta {beta}"
      ]
    },
    {
      "cell_type": "markdown",
      "metadata": {
        "id": "0unScBaRPXsY"
      },
      "source": [
        "**MBT EVALUATION**"
      ]
    },
    {
      "cell_type": "code",
      "execution_count": null,
      "metadata": {
        "id": "ymVN6994TfPV"
      },
      "outputs": [],
      "source": [
        "!python3 \"/content/DA_Semantic_Segmentation/evaluation_multibeta.py\" --pretrain_path \"/content/drive/MyDrive/STDCNet813M_73.91.tar\""
      ]
    },
    {
      "cell_type": "markdown",
      "metadata": {
        "id": "ZaRVatGOHyyT"
      },
      "source": [
        "\n",
        "**GENERATING PSEUDOLABEL**"
      ]
    },
    {
      "cell_type": "code",
      "execution_count": null,
      "metadata": {
        "id": "0pXoE18DH8aC"
      },
      "outputs": [],
      "source": [
        "!python3 \"/content/DA_Semantic_Segmentation/evaluation_multibeta.py\" --pretrain_path \"/content/drive/MyDrive/STDCNet813M_73.91.tar\" --use \"generatepseudo\""
      ]
    },
    {
      "cell_type": "markdown",
      "metadata": {
        "id": "_zPn5V-vaX9L"
      },
      "source": [
        "**SSL**"
      ]
    },
    {
      "cell_type": "code",
      "execution_count": null,
      "metadata": {
        "id": "Ev1pdlgAacEp"
      },
      "outputs": [],
      "source": [
        "!unzip -qq '/content/DA_Semantic_Segmentation/pseudolbl.zip' -d '/content/Cityscapes/Cityspaces/pseudolbl'"
      ]
    },
    {
      "cell_type": "code",
      "execution_count": null,
      "metadata": {
        "id": "yN57wj2po2vn"
      },
      "outputs": [],
      "source": [
        "!python3 \"/content/DA_Semantic_Segmentation/train_with_DA.py\" --optimizer \"sgd\" --num_epochs 60 --epoch_start_i 50 --training_path \"/content/DA_Semantic_Segmentation/checkpoint/FDA_run_beta0.01/latest_epoch_49_.pth\" --use_pseudo_label true --save_model_path \"/content/DA_Semantic_Segmentation/out\" --pretrain_path \"/content/drive/MyDrive/STDCNet813M_73.91.tar\" --lamb 0.001  --enable_FDA true --beta 0.05"
      ]
    }
  ],
  "metadata": {
    "accelerator": "GPU",
    "colab": {
      "gpuType": "T4",
      "include_colab_link": true,
      "provenance": []
    },
    "kernelspec": {
      "display_name": "Python 3",
      "name": "python3"
    },
    "language_info": {
      "name": "python"
    }
  },
  "nbformat": 4,
  "nbformat_minor": 0
}
