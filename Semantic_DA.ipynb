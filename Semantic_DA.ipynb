{
  "cells": [
    {
      "cell_type": "markdown",
      "metadata": {
        "id": "view-in-github",
        "colab_type": "text"
      },
      "source": [
        "<a href=\"https://colab.research.google.com/github/LeoDardanello/DA_Semantic_Segmentation/blob/main/Semantic_DA.ipynb\" target=\"_parent\"><img src=\"https://colab.research.google.com/assets/colab-badge.svg\" alt=\"Open In Colab\"/></a>"
      ]
    },
    {
      "cell_type": "code",
      "source": [
        "from google.colab import drive\n",
        "import sys, os\n",
        "\n",
        "drive.mount('/content/drive')\n"
      ],
      "metadata": {
        "colab": {
          "base_uri": "https://localhost:8080/"
        },
        "id": "um0XeVbimTpW",
        "outputId": "5dd3ea87-b31c-4b09-8da6-2000d46f2227"
      },
      "execution_count": 1,
      "outputs": [
        {
          "output_type": "stream",
          "name": "stdout",
          "text": [
            "Mounted at /content/drive\n"
          ]
        }
      ]
    },
    {
      "cell_type": "code",
      "source": [
        "import subprocess\n",
        "\n",
        "percorso_zip = \"/content/drive/MyDrive/AML/Cityscapes.zip\"\n",
        "\n",
        "percorso_destinazione = \"./\"\n",
        "\n",
        "comando_7zip = f\"7z x '{percorso_zip}' -o'{percorso_destinazione}'\"\n",
        "\n",
        "subprocess.run(comando_7zip, shell=True, stdout=subprocess.PIPE, stderr=subprocess.PIPE)\n"
      ],
      "metadata": {
        "colab": {
          "base_uri": "https://localhost:8080/"
        },
        "id": "NpT5jzhinC8f",
        "outputId": "03aa7a25-0c87-4447-87e2-d51324588842"
      },
      "execution_count": 2,
      "outputs": [
        {
          "output_type": "execute_result",
          "data": {
            "text/plain": [
              "CompletedProcess(args=\"7z x '/content/drive/MyDrive/AML/Cityscapes.zip' -o'./'\", returncode=2, stdout=b'\\n7-Zip [64] 16.02 : Copyright (c) 1999-2016 Igor Pavlov : 2016-05-21\\np7zip Version 16.02 (locale=en_US.UTF-8,Utf16=on,HugeFiles=on,64 bits,2 CPUs Intel(R) Xeon(R) CPU @ 2.00GHz (50653),ASM,AES-NI)\\n\\nScanning the drive for archives:\\n1 file, 4973983436 bytes (4744 MiB)\\n\\nExtracting archive: /content/drive/MyDrive/AML/Cityscapes.zip\\n--\\nPath = /content/drive/MyDrive/AML/Cityscapes.zip\\nType = zip\\nERRORS:\\nHeaders Error\\nPhysical Size = 4973983436\\n64-bit = +\\n\\n\\n\\nArchives with Errors: 1\\n\\nOpen Errors: 1\\n\\n', stderr=b'\\nERRORS:\\nHeaders Error\\n\\n')"
            ]
          },
          "metadata": {},
          "execution_count": 2
        }
      ]
    },
    {
      "cell_type": "code",
      "execution_count": 3,
      "metadata": {
        "colab": {
          "base_uri": "https://localhost:8080/"
        },
        "id": "JX2md0PHIjYo",
        "outputId": "55cc990e-38ba-47fa-b74a-ca5a0546d02d"
      },
      "outputs": [
        {
          "output_type": "stream",
          "name": "stdout",
          "text": [
            "Cloning into 'DA_Semantic_Segmentation'...\n",
            "remote: Enumerating objects: 31, done.\u001b[K\n",
            "remote: Counting objects: 100% (31/31), done.\u001b[K\n",
            "remote: Compressing objects: 100% (28/28), done.\u001b[K\n",
            "remote: Total 31 (delta 11), reused 12 (delta 2), pack-reused 0\u001b[K\n",
            "Receiving objects: 100% (31/31), 32.92 KiB | 8.23 MiB/s, done.\n",
            "Resolving deltas: 100% (11/11), done.\n"
          ]
        }
      ],
      "source": [
        "!git clone \"https://github.com/LeoDardanello/DA_Semantic_Segmentation.git\""
      ]
    },
    {
      "cell_type": "code",
      "execution_count": 4,
      "metadata": {
        "id": "42sz5FxcXP1E"
      },
      "outputs": [],
      "source": [
        "import torchvision\n",
        "import numpy"
      ]
    },
    {
      "cell_type": "code",
      "source": [
        "os.chdir(\"DA_Semantic_Segmentation/\")\n",
        "!ls\n",
        "!git pull"
      ],
      "metadata": {
        "colab": {
          "base_uri": "https://localhost:8080/"
        },
        "id": "eG-PkH4ZRRcP",
        "outputId": "1bbfd264-e0cf-4ab3-bf00-fd151531a7a5"
      },
      "execution_count": 5,
      "outputs": [
        {
          "output_type": "stream",
          "name": "stdout",
          "text": [
            "cityscapes.py  LICENSE\tmodel  README.md  Semantic_DA.ipynb  train.py  utils.py\n",
            "Already up to date.\n"
          ]
        }
      ]
    },
    {
      "cell_type": "code",
      "source": [
        "def list_files_in_folder(folder_path, target_folder):\n",
        "    file_paths = []\n",
        "\n",
        "    # Verifica se il percorso della cartella esiste\n",
        "    if os.path.exists(folder_path):\n",
        "        # Ottieni tutti i file nella cartella\n",
        "        for root, dirs, files in os.walk(folder_path):\n",
        "            # Verifica se la cartella di destinazione è presente nella gerarchia del percorso\n",
        "            if target_folder in root:\n",
        "                for file in files:\n",
        "                    # Crea il percorso completo del file\n",
        "                    file_path = os.path.join(root, file)\n",
        "\n",
        "                    # Ottieni il percorso relativo alla cartella \"train\"\n",
        "                    relative_path = os.path.relpath(file_path, folder_path)\n",
        "                    file_paths.append(relative_path)\n",
        "\n",
        "    return file_paths\n",
        "\n",
        "# Specifica il percorso della cartella di cui vuoi ottenere i file\n",
        "folder_path = \"Cityscapes/Cityspaces/gtFine\"  # Cambia questo percorso con il tuo\n",
        "target_folder = \"train\"\n",
        "\n",
        "# Ottieni i percorsi dei file nella cartella \"train\"\n",
        "files_in_folder = list_files_in_folder(folder_path, target_folder)\n",
        "\n",
        "# Stampare i percorsi relativi alla cartella \"train\"\n",
        "for file_path in files_in_folder:\n",
        "    print(file_path)\n"
      ],
      "metadata": {
        "id": "ItvoquWTUwbX"
      },
      "execution_count": null,
      "outputs": []
    }
  ],
  "metadata": {
    "colab": {
      "provenance": [],
      "gpuType": "T4",
      "include_colab_link": true
    },
    "kernelspec": {
      "display_name": "Python 3",
      "name": "python3"
    },
    "language_info": {
      "name": "python"
    },
    "accelerator": "GPU"
  },
  "nbformat": 4,
  "nbformat_minor": 0
}